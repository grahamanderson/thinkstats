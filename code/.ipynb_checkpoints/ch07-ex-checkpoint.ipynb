{
 "cells": [
  {
   "cell_type": "code",
   "execution_count": 6,
   "metadata": {
    "collapsed": true
   },
   "outputs": [],
   "source": [
    "import thinkstats2\n",
    "import thinkplot\n",
    "import brfss\n",
    "import numpy as np\n",
    "import pandas as pd\n",
    "import random\n",
    "\n"
   ]
  },
  {
   "cell_type": "code",
   "execution_count": null,
   "metadata": {
    "collapsed": true
   },
   "outputs": [],
   "source": [
    "df = brfss.ReadBrfss(nrows=None)"
   ]
  },
  {
   "cell_type": "code",
   "execution_count": null,
   "metadata": {
    "collapsed": false
   },
   "outputs": [],
   "source": [
    "sample = thinkstats2.SampleRows(df, 5000)\n",
    "heights, weights = sample.htm3, sample.wtkg2\n",
    "#heights, weights\n",
    "# heights = thinkstats2.Jitter(heights, 1.3)\n",
    "# weights = thinkstats2.Jitter(weights, 0.5)\n",
    "\n",
    "#thinkplot.Scatter(heights, weights, alpha=0.2)\n",
    "thinkplot.HexBin(heights, weights)\n",
    "\n",
    "thinkplot.Show(xlabel='Height (cm)',\n",
    "               ylabel='Weight (kg)',\n",
    "               axis = [140,210,20, 200])\n"
   ]
  },
  {
   "cell_type": "code",
   "execution_count": null,
   "metadata": {
    "collapsed": true
   },
   "outputs": [],
   "source": [
    "df = df.dropna(subset=['htm3', 'wtkg2'])\n",
    "bins = np.arange(135, 210, 5)\n",
    "indices = np.digitize(df.htm3, bins)\n",
    "groups = df.groupby(indices)\n",
    "\n",
    "for i, group in groups:\n",
    "    print(i, len(group))\n",
    "    \n",
    "    "
   ]
  }
 ],
 "metadata": {
  "kernelspec": {
   "display_name": "Python 3",
   "language": "python",
   "name": "python3"
  },
  "language_info": {
   "codemirror_mode": {
    "name": "ipython",
    "version": 3
   },
   "file_extension": ".py",
   "mimetype": "text/x-python",
   "name": "python",
   "nbconvert_exporter": "python",
   "pygments_lexer": "ipython3",
   "version": "3.5.1"
  }
 },
 "nbformat": 4,
 "nbformat_minor": 0
}
