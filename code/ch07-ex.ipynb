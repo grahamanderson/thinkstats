{
 "cells": [
  {
   "cell_type": "code",
   "execution_count": 2,
   "metadata": {
    "collapsed": true
   },
   "outputs": [],
   "source": [
    "import thinkstats2\n",
    "import thinkplot\n",
    "import brfss\n",
    "import numpy as np\n",
    "import pandas as pd\n",
    "import random\n",
    "%matplotlib inline\n",
    "\n"
   ]
  },
  {
   "cell_type": "code",
   "execution_count": 3,
   "metadata": {
    "collapsed": true
   },
   "outputs": [],
   "source": [
    "df = brfss.ReadBrfss(nrows=None)"
   ]
  },
  {
   "cell_type": "code",
   "execution_count": 4,
   "metadata": {
    "collapsed": false
   },
   "outputs": [],
   "source": [
    "sample = thinkstats2.SampleRows(df, 5000)\n",
    "heights, weights = sample.htm3, sample.wtkg2\n",
    "#heights, weights\n",
    "# heights = thinkstats2.Jitter(heights, 1.3)\n",
    "# weights = thinkstats2.Jitter(weights, 0.5)\n",
    "\n",
    "#thinkplot.Scatter(heights, weights, alpha=0.2)\n",
    "# thinkplot.HexBin(heights, weights)\n",
    "\n",
    "# thinkplot.Show(xlabel='Height (cm)',\n",
    "#                ylabel='Weight (kg)',\n",
    "#                axis = [140,210,20, 200])\n"
   ]
  },
  {
   "cell_type": "code",
   "execution_count": 21,
   "metadata": {
    "collapsed": false
   },
   "outputs": [
    {
     "data": {
      "text/plain": [
       "16"
      ]
     },
     "execution_count": 21,
     "metadata": {},
     "output_type": "execute_result"
    }
   ],
   "source": [
    "df = df.dropna(subset=['htm3', 'wtkg2'])\n",
    "bins = np.arange(135, 210, 5)\n",
    "indices = np.digitize(df.htm3, bins)\n",
    "groups = df.groupby(indices)\n",
    "\n",
    "\n",
    "#groups\n",
    "\n",
    "# for i, group in groups:\n",
    "#     print(i, len(group))\n",
    "\n",
    "#heights = [group.htm3.mean() for i, group in groups]\n",
    "#cdfs = [thinkstats2.Cdf(group.wtkg2) for i, group in groups]\n",
    "\n",
    "#cdfs\n",
    "\n",
    "# for percent in [75, 50, 25]:\n",
    "#     weights = [cdf.Percentile(percent) for cdf in cdfs]\n",
    "#     label = '%dth' % percent\n",
    "#     thinkplot.Plot(heights, weights, label=label)\n",
    "\n",
    "# thinkplot.Show(xlabel='Height (cm)',\n",
    "#         ylabel='Weight (kg)',\n",
    "#         axis = [140,210,20, 200])    "
   ]
  },
  {
   "cell_type": "code",
   "execution_count": 23,
   "metadata": {
    "collapsed": false
   },
   "outputs": [
    {
     "data": {
      "text/plain": [
       "0.53172826059829925"
      ]
     },
     "execution_count": 23,
     "metadata": {},
     "output_type": "execute_result"
    }
   ],
   "source": [
    " thinkstats2.Corr(df.htm3, np.log(df.wtkg2))\n"
   ]
  },
  {
   "cell_type": "markdown",
   "metadata": {},
   "source": [
    "# Elvis Twin Problem from ThinkBayes"
   ]
  },
  {
   "cell_type": "code",
   "execution_count": 29,
   "metadata": {
    "collapsed": false
   },
   "outputs": [
    {
     "name": "stdout",
     "output_type": "stream",
     "text": [
      "chance of elvis being an identical twin = 0.14814814814814814\n"
     ]
    }
   ],
   "source": [
    "# Different Question\n",
    "prior = 0.08\n",
    "likelihood_of_evidence = 1.0\n",
    "normalising_factor = (0.08 * 1) + (0.92 * 0.5)\n",
    "    \n",
    "posterior = (prior * likelihood_of_evidence) / normalising_factor\n",
    "\n",
    "print(\"chance of elvis being an identical twin = {0}\".format(posterior)) "
   ]
  },
  {
   "cell_type": "code",
   "execution_count": 36,
   "metadata": {
    "collapsed": false
   },
   "outputs": [
    {
     "name": "stdout",
     "output_type": "stream",
     "text": [
      "Probability that Elvis was an identical twin is 0.45454545454545453\n"
     ]
    }
   ],
   "source": [
    "# asked question (I think)\n",
    "male_identical = (1/2) * (1/300)\n",
    "male_fraternal = (1/4) * (1/125)\n",
    "bayes_pred = male_identical / (male_identical + male_fraternal) \n",
    "print(\"Probability that Elvis was an identical twin is {0}\".format(bayes_pred))"
   ]
  },
  {
   "cell_type": "markdown",
   "metadata": {},
   "source": []
  }
 ],
 "metadata": {
  "kernelspec": {
   "display_name": "Python 3",
   "language": "python",
   "name": "python3"
  },
  "language_info": {
   "codemirror_mode": {
    "name": "ipython",
    "version": 3
   },
   "file_extension": ".py",
   "mimetype": "text/x-python",
   "name": "python",
   "nbconvert_exporter": "python",
   "pygments_lexer": "ipython3",
   "version": "3.5.1"
  }
 },
 "nbformat": 4,
 "nbformat_minor": 0
}
